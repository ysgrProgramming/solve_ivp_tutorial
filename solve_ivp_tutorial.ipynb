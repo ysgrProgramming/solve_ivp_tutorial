{
  "nbformat": 4,
  "nbformat_minor": 0,
  "metadata": {
    "colab": {
      "name": "solve_ivp_tutorial.ipynb",
      "provenance": [],
      "authorship_tag": "ABX9TyMTM53jEQrGgmlqkSZRgUfR",
      "include_colab_link": true
    },
    "kernelspec": {
      "name": "python3",
      "display_name": "Python 3"
    },
    "language_info": {
      "name": "python"
    }
  },
  "cells": [
    {
      "cell_type": "markdown",
      "metadata": {
        "id": "view-in-github",
        "colab_type": "text"
      },
      "source": [
        "<a href=\"https://colab.research.google.com/github/ysgrProgramming/solve_ivp_tutorial/blob/main/solve_ivp_tutorial.ipynb\" target=\"_parent\"><img src=\"https://colab.research.google.com/assets/colab-badge.svg\" alt=\"Open In Colab\"/></a>"
      ]
    },
    {
      "cell_type": "markdown",
      "source": [
        "# scipy.integrate.solve_ivpで常微分方程式を解く練習\n",
        "\n",
        "scipyのintegrate.solve_ivpモジュールを使って常微分方程式を解き、物理アニメーションを作成する。"
      ],
      "metadata": {
        "id": "Z7yuI1J_cYMG"
      }
    },
    {
      "cell_type": "markdown",
      "source": [
        "## solve_ivpについて"
      ],
      "metadata": {
        "id": "c4Ee61m5corz"
      }
    },
    {
      "cell_type": "code",
      "execution_count": null,
      "metadata": {
        "id": "Q0sG50TjcV5n"
      },
      "outputs": [],
      "source": [
        ""
      ]
    }
  ]
}